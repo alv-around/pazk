{
 "cells": [
  {
   "cell_type": "markdown",
   "id": "beef0ade-99d8-4ac6-b524-cd24f34e76e0",
   "metadata": {},
   "source": [
    "# Grand Product Argument\n",
    "\n",
    "Is and ARG commonly used today in zero-knowledge proving systems, like commimtment schemes, range proofs ..etc. \n",
    "\n",
    "The goal is for a prover $P$ to demostrate they posse a vector of n values $W$, $|W| = n$ which evaluate the a previous commitment $y$, s.t.: \n",
    "$y = \\prod_{i=1}^{n} W_i$\n",
    "\n",
    "For the purpose of this example, we limit the amounts of n to be a power of 2 $n = 2^a$. This way we can efficiently compute $y$ by generating binary tree, where the leafs values are equal to $V$, and each parent node is the multiplication of it's two children nodes. The resulting root node of the tree is equal to $y$.\n",
    "$$\\text{Binary Tree Example:}$$\n",
    "$$\\begin{array}{c}\n",
    "     \\text{Root} \\\\\n",
    "     \\begin{array}{cc}\n",
    "         \\text{L1} & \\text{R1} \\\\\n",
    "         \\begin{array}{cc}\n",
    "             \\dots & \\dots\n",
    "         \\end{array} &\n",
    "         \\begin{array}{cc}\n",
    "             \\dots & \\dots\n",
    "         \\end{array}\n",
    "     \\end{array}\n",
    "\\end{array}$$\n"
   ]
  },
  {
   "cell_type": "code",
   "execution_count": 2,
   "id": "31437c05-33f0-4bad-86d8-ea7656b623e3",
   "metadata": {},
   "outputs": [],
   "source": [
    "# number is a power of 2\n",
    "def is_power_of_2(n: int):\n",
    "    assert n & (n - 1) == 0\n",
    "\n",
    "# return indexes of children nodes for a given node in the binary tree\n",
    "def children(index: int, n: int) -> (int, int):\n",
    "    assert n <= index <= 2 * n - 2\n",
    "    left_child = (index - n) * 2\n",
    "    return (left_child, left_child+1)\n",
    "\n",
    "# create merkle tree\n",
    "def create_tree(v: list[int]) -> list[int]:\n",
    "    n = len(v)\n",
    "    is_power_of_2(n)\n",
    "    tree = v.copy()\n",
    "    print(tree)\n",
    "    for i in range(n, 2 * n - 1):\n",
    "        left_i, right_i = children(i, n)\n",
    "        result = tree[int(left_i)] * tree[int(right_i)]\n",
    "        tree.append(result)\n",
    "\n",
    "    assert len(tree) == 2 * n - 1\n",
    "    return tree"
   ]
  },
  {
   "cell_type": "markdown",
   "id": "4e6db870-a836-45c9-a6ca-b3b71ac1de6d",
   "metadata": {},
   "source": [
    "We start by setting a couple variables up"
   ]
  },
  {
   "cell_type": "code",
   "execution_count": 3,
   "id": "8345b54e-24ed-4fff-9a2b-50843edd2ead",
   "metadata": {},
   "outputs": [],
   "source": [
    "a = 3\n",
    "p = 120.next_prime()\n",
    "F = GF(p)\n",
    "P = PolynomialRing(F, 'x')\n",
    "x = P.gen()\n",
    "\n",
    "W = [F.random_element() for _ in range(2^a)]\n",
    "n = len(W)"
   ]
  },
  {
   "cell_type": "markdown",
   "id": "bcc083ff-bd1d-41a1-9a1c-027ae445182b",
   "metadata": {},
   "source": [
    "## Protocol\n",
    "\n",
    "With the values for $V$ that we want to commit we can start the protocol\n",
    "\n",
    "### 1. Commiting\n",
    "\n",
    "We start by calculating $y$ and all it's intermidiate states. after that, $P$ commits to $y$, $W$, and  all it's in by generating the low degree of the Merkle Tree."
   ]
  },
  {
   "cell_type": "code",
   "execution_count": 7,
   "id": "72df047f-768f-4ee2-a35d-280212d67612",
   "metadata": {},
   "outputs": [
    {
     "name": "stdout",
     "output_type": "stream",
     "text": [
      "[118, 113, 69, 116, 58, 99, 124, 94]\n"
     ]
    },
    {
     "data": {
      "text/plain": [
       "44*x^14 + 103*x^13 + 80*x^12 + 89*x^11 + 80*x^10 + 126*x^9 + 67*x^8 + 51*x^7 + 94*x^6 + 68*x^5 + 101*x^4 + 24*x^3 + 93*x^2 + 118*x + 118"
      ]
     },
     "execution_count": 7,
     "metadata": {},
     "output_type": "execute_result"
    }
   ],
   "source": [
    "tree = create_tree(W)\n",
    "y = tree[-1]\n",
    "g = enumerate(tree)\n",
    "\n",
    "lde = P.lagrange_polynomial(g)\n",
    "lde"
   ]
  },
  {
   "cell_type": "code",
   "execution_count": 8,
   "id": "20db319f-a5b0-4883-a40b-3be79ed38029",
   "metadata": {},
   "outputs": [
    {
     "name": "stdout",
     "output_type": "stream",
     "text": [
      "h_i: 42*x^14 + 119*x^13 + 94*x^12 + 117*x^11 + 81*x^10 + 73*x^9 + 104*x^8 + 92*x^7 + 50*x^6 + 64*x^5 + 108*x^4 + 114*x^3 + 99*x^2 + 26*x + 59\n",
      "vanishing polynomial: x^8 + 99*x^7 + 68*x^6 + 72*x^5 + 38*x^4 + 76*x^3 + 114*x^2 + 40*x\n"
     ]
    }
   ],
   "source": [
    "tree_indexes = list(range(n, 2*n -1))\n",
    "left_children, right_children = zip(*[children(i, n) for i in tree_indexes])\n",
    "\n",
    "left_child_poly = P.lagrange_polynomial(list(zip(tree_indexes, left_children)))\n",
    "right_child_poly = P.lagrange_polynomial(list(zip(tree_indexes, right_children)))\n",
    "assert left_child_poly + 1 == right_child_poly\n",
    "\n",
    "h = lambda x: lde(x) - lde(left_child_poly(x)) * lde(right_child_poly(x))\n",
    "assert all([h(i) == 0 for i in tree_indexes])\n",
    "\n",
    "h_i = P.lagrange_polynomial(enumerate([h(i) for i in range(15)]))\n",
    "print(f\"h_i: {h_i}\")\n",
    "\n",
    "def vanishing_polynomial(points):\n",
    "    z = 1\n",
    "    for a in points:\n",
    "        z *= (x - a)\n",
    "    return z\n",
    "\n",
    "Z = vanishing_polynomial(range(n))\n",
    "print(f\"vanishing polynomial: {Z}\")"
   ]
  },
  {
   "cell_type": "code",
   "execution_count": 12,
   "id": "4575457a-b9bf-4073-993a-5c345a62305e",
   "metadata": {},
   "outputs": [],
   "source": [
    "r = F.random_element()\n",
    "\n",
    "countient, remainder = h_i(r).quo_rem(Z(r))\n",
    "assert remainder == 0"
   ]
  },
  {
   "cell_type": "code",
   "execution_count": null,
   "id": "cbb86c2d-6c4e-41ad-9c01-8ea2812d71d8",
   "metadata": {},
   "outputs": [],
   "source": []
  },
  {
   "cell_type": "code",
   "execution_count": null,
   "id": "c8df7401-697c-4fb6-965a-45c15e8f8536",
   "metadata": {},
   "outputs": [],
   "source": []
  },
  {
   "cell_type": "code",
   "execution_count": null,
   "id": "b141bb69-8eee-44fe-9fe7-f56a7cbf4a9a",
   "metadata": {},
   "outputs": [],
   "source": []
  },
  {
   "cell_type": "code",
   "execution_count": null,
   "id": "f23991d6-2828-4f12-b2b7-5ea673e60502",
   "metadata": {},
   "outputs": [],
   "source": []
  }
 ],
 "metadata": {
  "kernelspec": {
   "display_name": "SageMath 10.4",
   "language": "sage",
   "name": "sagemath"
  },
  "language_info": {
   "codemirror_mode": {
    "name": "ipython",
    "version": 3
   },
   "file_extension": ".py",
   "mimetype": "text/x-python",
   "name": "python",
   "nbconvert_exporter": "python",
   "pygments_lexer": "ipython3",
   "version": "3.12.7"
  }
 },
 "nbformat": 4,
 "nbformat_minor": 5
}
